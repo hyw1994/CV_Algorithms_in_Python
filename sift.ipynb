{
 "cells" : [
  {
   "cell_type" : "code",
   "execution_count" : 1,
   "metadata" : {
    "pycharm" : {
     "is_executing" : false
    }
   },
   "outputs" : [
    {
     "data" : {
      "text/plain" : "True"
     },
     "metadata" : { },
     "output_type" : "execute_result",
     "execution_count" : 1
    }
   ],
   "source" : [
    "import numpy as np\n",
    "import cv2 as cv\n",
    "import os\n",
    "img = cv.imread(os.path.join(os.getcwd(), \"data\", \"hand.png\"))\n",
    "gray= cv.cvtColor(img,cv.COLOR_BGR2GRAY)\n",
    "sift = cv.xfeatures2d.SIFT_create()\n",
    "kp = sift.detect(gray,None)\n",
    "img=cv.drawKeypoints(gray,kp,img)\n",
    "cv.imwrite('sift_keypoints.jpg',img)"
   ]
  },
  {
   "cell_type" : "code",
   "execution_count" : 2,
   "metadata" : {
    "pycharm" : {
     "is_executing" : false,
     "name" : "#%%\n"
    }
   },
   "outputs" : [
    {
     "data" : {
      "text/plain" : "<module 'posixpath' from '/usr/local/Caskroom/miniconda/base/envs/cv2py/lib/python3.8/posixpath.py'>"
     },
     "metadata" : { },
     "output_type" : "execute_result",
     "execution_count" : 2
    }
   ],
   "source" : [
    "import os\n",
    "os.path"
   ]
  },
  {
   "cell_type" : "code",
   "execution_count" : null,
   "outputs" : [ ],
   "source" : [ ],
   "metadata" : {
    "collapsed" : false,
    "pycharm" : {
     "name" : "#%%\n"
    }
   }
  }
 ],
 "metadata" : {
  "kernelspec" : {
   "display_name" : "cv2py",
   "language" : "python",
   "name" : "cv2py"
  },
  "language_info" : {
   "codemirror_mode" : {
    "name" : "ipython",
    "version" : 3
   },
   "file_extension" : ".py",
   "mimetype" : "text/x-python",
   "name" : "python",
   "nbconvert_exporter" : "python",
   "pygments_lexer" : "ipython3",
   "version" : "3.8.1"
  },
  "pycharm" : {
   "stem_cell" : {
    "cell_type" : "raw",
    "source" : [ ],
    "metadata" : {
     "collapsed" : false
    }
   }
  }
 },
 "nbformat" : 4,
 "nbformat_minor" : 4
}